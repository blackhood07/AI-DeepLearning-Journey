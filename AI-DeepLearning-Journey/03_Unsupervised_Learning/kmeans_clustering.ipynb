{
 "cells": [
  {
   "cell_type": "markdown",
   "id": "a8005b7a",
   "metadata": {},
   "source": [
    "# Unsupervised Learning with K-Means Clustering\n",
    "Clustering Iris dataset without labels."
   ]
  },
  {
   "cell_type": "code",
   "execution_count": null,
   "id": "2075961f",
   "metadata": {},
   "outputs": [],
   "source": [
    "import numpy as np\n",
    "import pandas as pd\n",
    "import matplotlib.pyplot as plt\n",
    "from sklearn.datasets import load_iris\n",
    "from sklearn.cluster import KMeans\n",
    "from sklearn.decomposition import PCA"
   ]
  },
  {
   "cell_type": "code",
   "execution_count": null,
   "id": "6af5a5c7",
   "metadata": {},
   "outputs": [],
   "source": [
    "# Load Iris data\n",
    "iris = load_iris()\n",
    "X = iris.data"
   ]
  },
  {
   "cell_type": "code",
   "execution_count": null,
   "id": "a8f12130",
   "metadata": {},
   "outputs": [],
   "source": [
    "# Apply KMeans\n",
    "kmeans = KMeans(n_clusters=3, random_state=42)\n",
    "kmeans.fit(X)\n",
    "y_kmeans = kmeans.predict(X)"
   ]
  },
  {
   "cell_type": "code",
   "execution_count": null,
   "id": "bba6e2b9",
   "metadata": {},
   "outputs": [],
   "source": [
    "# Visualize with PCA\n",
    "pca = PCA(n_components=2)\n",
    "X_pca = pca.fit_transform(X)\n",
    "plt.scatter(X_pca[:, 0], X_pca[:, 1], c=y_kmeans, cmap='viridis')\n",
    "plt.title('K-Means Clustering (Iris PCA)')\n",
    "plt.xlabel('PCA 1')\n",
    "plt.ylabel('PCA 2')\n",
    "plt.colorbar()\n",
    "plt.show()"
   ]
  }
 ],
 "metadata": {},
 "nbformat": 4,
 "nbformat_minor": 5
}
