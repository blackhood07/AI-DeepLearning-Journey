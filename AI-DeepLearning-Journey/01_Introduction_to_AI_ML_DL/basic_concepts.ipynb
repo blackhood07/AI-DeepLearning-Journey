{
 "cells": [
  {
   "cell_type": "markdown",
   "id": "43d102f2",
   "metadata": {},
   "source": [
    "# Basic Concepts in Machine Learning\n",
    "Exploring a simple ML model."
   ]
  },
  {
   "cell_type": "code",
   "execution_count": null,
   "id": "bca6a9fb",
   "metadata": {},
   "outputs": [],
   "source": [
    "import numpy as np\n",
    "import pandas as pd\n",
    "from sklearn.datasets import load_iris\n",
    "from sklearn.model_selection import train_test_split\n",
    "from sklearn.linear_model import LogisticRegression\n",
    "from sklearn.metrics import accuracy_score"
   ]
  },
  {
   "cell_type": "code",
   "execution_count": null,
   "id": "9dc8fb80",
   "metadata": {},
   "outputs": [],
   "source": [
    "# Load dataset\n",
    "iris = load_iris()\n",
    "X = iris.data\n",
    "y = iris.target\n",
    "\n",
    "# Train-test split\n",
    "X_train, X_test, y_train, y_test = train_test_split(X, y, test_size=0.2, random_state=42)"
   ]
  },
  {
   "cell_type": "code",
   "execution_count": null,
   "id": "fca43f43",
   "metadata": {},
   "outputs": [],
   "source": [
    "# Model training\n",
    "model = LogisticRegression(max_iter=200)\n",
    "model.fit(X_train, y_train)\n",
    "\n",
    "# Prediction\n",
    "y_pred = model.predict(X_test)\n",
    "\n",
    "# Accuracy\n",
    "print('Accuracy:', accuracy_score(y_test, y_pred))"
   ]
  }
 ],
 "metadata": {},
 "nbformat": 4,
 "nbformat_minor": 5
}